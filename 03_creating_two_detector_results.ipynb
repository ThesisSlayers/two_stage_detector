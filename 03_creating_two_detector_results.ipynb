{
 "cells": [
  {
   "cell_type": "code",
   "execution_count": null,
   "metadata": {},
   "outputs": [],
   "source": [
    "# default_exp inference"
   ]
  },
  {
   "cell_type": "code",
   "execution_count": null,
   "metadata": {},
   "outputs": [],
   "source": [
    "#export\n",
    "import tensorflow as tf\n",
    "from tensorflow.keras.models import load_model\n",
    "from pathlib import Path\n",
    "from PIL import Image\n",
    "import os\n",
    "import cv2\n",
    "import numpy as np\n",
    "from tqdm.notebook import tqdm\n",
    "\n",
    "from xml.etree.ElementTree import Element, SubElement, tostring \n",
    "import pprint\n",
    "from xml.dom.minidom import parseString\n",
    "\n",
    "from two_stage_detector.bbox import *\n",
    "from two_stage_detector.inference import *\n",
    "\n",
    "from fastcore.test import *"
   ]
  },
  {
   "cell_type": "code",
   "execution_count": null,
   "metadata": {},
   "outputs": [],
   "source": [
    "from matplotlib import pyplot as plt\n",
    "from IPython.display import clear_output"
   ]
  },
  {
   "cell_type": "code",
   "execution_count": null,
   "metadata": {},
   "outputs": [],
   "source": [
    "%config Completer.use_jedi = False"
   ]
  },
  {
   "cell_type": "code",
   "execution_count": null,
   "metadata": {},
   "outputs": [],
   "source": [
    "path_det1 = '/home/addfor/projects/smart_tray/20_5006v02-intp-detection-foodv01/det1_model/saved_model'\n",
    "path_det2 = '/home/addfor/projects/smart_tray/20_5006v02-intp-detection-foodv01/det2_model/saved_model'\n",
    "det1 = tf.saved_model.load(path_det1)\n",
    "det2 = tf.saved_model.load(path_det2)"
   ]
  },
  {
   "cell_type": "code",
   "execution_count": null,
   "metadata": {},
   "outputs": [],
   "source": [
    "DATASETS_LIST = [\n",
    "    \"run_3_revisited_5may2021\",\n",
    "    \"Sodexo_revisited_8jun\",\n",
    "    \"Test_Empoli_01_06_2021\",\n",
    "    \"Test_Empoli_08_06_2021\",\n",
    "    \"Test_Empoli_09_06_2021\",\n",
    "    \"Test_Empoli_26_05_2021\",\n",
    "    \"Test_Empoli_27_05_2021\",\n",
    "    \"Test_Empoli_28_05_2021\",\n",
    "    \"Test_Empoli_29_04_2021\",\n",
    "    \"Test_Empoli_30_04_2021\",\n",
    "    \"Test_Empoli_31_05_2021\",\n",
    "    \"Test_Empoli_from_10_06_2021_to_30_06_2021\",\n",
    "    \"UNIMIB_revisited_7giu2021\"\n",
    "]\n",
    "\n",
    "BASE_PATH = Path('/mnt/data/smarttray/dataset_05jul2021_av3b')"
   ]
  },
  {
   "cell_type": "code",
   "execution_count": null,
   "metadata": {},
   "outputs": [],
   "source": [
    "def initialize_pascalvoc_header(img_path, W, H):\n",
    "    node_root = Element('annotation')\n",
    "\n",
    "    node_folder = SubElement(node_root, 'folder')\n",
    "    node_folder.text = f'{BASE_PATH/img_path}'\n",
    "\n",
    "    node_filename = SubElement(node_root, 'filename')\n",
    "    node_filename.text = f'{img_path.name}'\n",
    "\n",
    "    node_size = SubElement(node_root, 'size')\n",
    "    node_width = SubElement(node_size, 'width')\n",
    "    node_width.text = f'{W}'\n",
    "\n",
    "    node_height = SubElement(node_size, 'height')\n",
    "    node_height.text = f'{H}'\n",
    "\n",
    "    node_depth = SubElement(node_size, 'depth')\n",
    "    node_depth.text = '3'\n",
    "    \n",
    "    return node_root\n",
    "\n",
    "def add_bb_to_xml(node_root, bb, scr, class_name, food_scr=None):\n",
    "    node_object = SubElement(node_root, 'object')\n",
    "    \n",
    "    node_name = SubElement(node_object, 'name')\n",
    "    node_name.text = f'{class_name}'\n",
    "    node_difficult = SubElement(node_object, 'difficult')\n",
    "    node_difficult.text = '0'\n",
    "    \n",
    "    node_bndbox = SubElement(node_object, 'bndbox')\n",
    "    \n",
    "    node_xmin = SubElement(node_bndbox, 'xmin')\n",
    "    node_xmin.text = f'{bb[0]}'\n",
    "    node_ymin = SubElement(node_bndbox, 'ymin')\n",
    "    node_ymin.text = f'{bb[1]}'\n",
    "    node_xmax = SubElement(node_bndbox, 'xmax')\n",
    "    node_xmax.text = f'{bb[2]}'\n",
    "    node_ymax = SubElement(node_bndbox, 'ymax')\n",
    "    node_ymax.text = f'{bb[3]}'\n",
    "    \n",
    "    node_score = SubElement(node_bndbox, 'score')\n",
    "    node_score.text = f'{scr}'\n",
    "    \n",
    "    if food_scr: \n",
    "        node_food_scr = SubElement(node_bndbox, 'food_score')\n",
    "        node_food_scr.text = f'{food_scr}'\n",
    "\n",
    "    return node_root"
   ]
  },
  {
   "cell_type": "code",
   "execution_count": null,
   "metadata": {},
   "outputs": [],
   "source": [
    "def debug(img, food_bbs, rcp_bbs):            \n",
    "    draw_bbs(img, food_bbs, color=blue)\n",
    "    draw_bbs(img, rcp_bbs, color=red)\n",
    "\n",
    "    plot(img); plt.show()\n",
    "    x = input(\"write 'c' to stop\")\n",
    "    clear_output()\n",
    "    if x=='c': raise Exception() "
   ]
  },
  {
   "cell_type": "code",
   "execution_count": null,
   "metadata": {},
   "outputs": [],
   "source": [
    "def get_n_best_bbs(bbs, scrs, n):\n",
    "    x = list(zip(bbs,scrs))\n",
    "    x = sorted(x, key=lambda x: x[1], reverse=True)[:n]\n",
    "    bbs, scrs = list(zip(*x))\n",
    "    return bbs, scrs"
   ]
  },
  {
   "cell_type": "code",
   "execution_count": null,
   "metadata": {},
   "outputs": [],
   "source": [
    "bbs, scrs = [[1], [3], [2], [5]], [1, 3, 2, 5]\n",
    "test_eq(get_n_best_bbs(bbs, scrs, 2), ([[5], [3]], [5, 3]))"
   ]
  },
  {
   "cell_type": "code",
   "execution_count": null,
   "metadata": {},
   "outputs": [],
   "source": [
    "def save_xml(node_root, xml_path):\n",
    "    xml_path = Path(xml_path)\n",
    "    xml_path.parent.mkdir(exist_ok=True)\n",
    "\n",
    "    xml = tostring(node_root) #, pretty_print=True Formatted display, the newline of the newline\n",
    "    dom = parseString(xml)\n",
    "\n",
    "    with open(str(xml_path), 'w') as f: \n",
    "        dom.writexml(f,indent='   ', addindent='   ', newl='\\n')\n",
    "        \n",
    "def create_xml_anns_of_img(img_path, do_debug, det1_th, det2_th, n_best):            \n",
    "    img = load_image(img_path).numpy()\n",
    "    H, W, _ = img.shape        \n",
    "    node_root = initialize_pascalvoc_header(img_path, W, H)\n",
    "\n",
    "    food_bbs, food_scrs = get_bbs(img, det1, threshold=det1_th, n_best=n_best, in_absolute_coords=True)\n",
    "    for bb, scr  in zip(food_bbs, food_scrs): \n",
    "        node_root = add_bb_to_xml(node_root, bb, scr, \"food\")\n",
    "\n",
    "    foods = get_bb_crops(img, food_bbs)\n",
    "    for food, food_bb, food_scr in zip(foods, food_bbs, food_scrs):\n",
    "        X, Y, w, h = food_bb.coco_coords\n",
    "        if w > 700 and h > 700:\n",
    "            rcp_bbs, rcp_scrs = get_bbs(food, det2, threshold=det2_th, n_best=n_best, in_absolute_coords=True)\n",
    "            for bb, scr  in zip(rcp_bbs, rcp_scrs): \n",
    "                bb.shift(X, Y)\n",
    "                node_root = add_bb_to_xml(node_root, bb, scr, \"recipe\", food_scr)                \n",
    "\n",
    "            if do_debug: debug(img, food_bbs, rcp_bbs)\n",
    "\n",
    "    return node_root\n"
   ]
  },
  {
   "cell_type": "code",
   "execution_count": null,
   "metadata": {},
   "outputs": [
    {
     "data": {
      "application/vnd.jupyter.widget-view+json": {
       "model_id": "d97b4e7b39cf407b8361d5928f80be11",
       "version_major": 2,
       "version_minor": 0
      },
      "text/plain": [
       "  0%|          | 0/1504 [00:00<?, ?it/s]"
      ]
     },
     "metadata": {},
     "output_type": "display_data"
    }
   ],
   "source": [
    "det1_th = 0.0\n",
    "det2_th = 0.0\n",
    "n_best = 20\n",
    "\n",
    "blue = [0,0,255]\n",
    "red  = [255,0,0]\n",
    "\n",
    "do_debug = False\n",
    "\n",
    "# for ds in tqdm(DATASETS_LIST):\n",
    "#     ds_path = BASE_PATH/ds/'val/images'\n",
    "#     if ds_path.exists(): img_paths = [img_path for img_path in ds_path.iterdir() if not img_path.is_dir()]\n",
    "#     else: continue\n",
    "\n",
    "#     for img_path in tqdm(img_paths):\n",
    "#         node_root = create_xml_anns_of_img(img_path, do_debug, det1_th, det2_th, n_best)\n",
    "#         xml_path = BASE_PATH/'two_detector_results'/ds/f'{img_path.stem}.xml'\n",
    "#         save_xml(node_root, xml_path)\n",
    "\n",
    "data_test_path = BASE_PATH/'data_test/images'\n",
    "img_paths = [img_path for img_path in data_test_path.iterdir() if not img_path.is_dir()]\n",
    "for img_path in tqdm(img_paths):\n",
    "    node_root = create_xml_anns_of_img(img_path, do_debug, det1_th, det2_th, n_best)\n",
    "    xml_path = BASE_PATH/'two_detector_results'/f'data_test/{img_path.stem}.xml'\n",
    "    save_xml(node_root, xml_path)    "
   ]
  },
  {
   "cell_type": "code",
   "execution_count": null,
   "metadata": {},
   "outputs": [
    {
     "ename": "NameError",
     "evalue": "name 'xml_path' is not defined",
     "output_type": "error",
     "traceback": [
      "\u001b[0;31m---------------------------------------------------------------------------\u001b[0m",
      "\u001b[0;31mNameError\u001b[0m                                 Traceback (most recent call last)",
      "\u001b[0;32m<ipython-input-12-a27aca715a5a>\u001b[0m in \u001b[0;36m<module>\u001b[0;34m\u001b[0m\n\u001b[0;32m----> 1\u001b[0;31m \u001b[0mread_xml_anns\u001b[0m\u001b[0;34m(\u001b[0m\u001b[0mxml_path\u001b[0m\u001b[0;34m)\u001b[0m\u001b[0;34m\u001b[0m\u001b[0;34m\u001b[0m\u001b[0m\n\u001b[0m",
      "\u001b[0;31mNameError\u001b[0m: name 'xml_path' is not defined"
     ]
    }
   ],
   "source": [
    "read_xml_anns(xml_path)"
   ]
  },
  {
   "cell_type": "code",
   "execution_count": null,
   "metadata": {},
   "outputs": [],
   "source": []
  }
 ],
 "metadata": {
  "kernelspec": {
   "display_name": "Python 3",
   "language": "python",
   "name": "python3"
  }
 },
 "nbformat": 4,
 "nbformat_minor": 4
}
