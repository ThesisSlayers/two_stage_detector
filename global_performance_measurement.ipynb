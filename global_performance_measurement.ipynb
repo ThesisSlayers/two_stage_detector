{
 "cells": [
  {
   "cell_type": "code",
   "execution_count": 2,
   "metadata": {},
   "outputs": [],
   "source": [
    "from utils import read_xml_content\n",
    "from pathlib import Path\n",
    "%config Completer.use_jedi = False\n"
   ]
  },
  {
   "cell_type": "code",
   "execution_count": 13,
   "metadata": {},
   "outputs": [],
   "source": [
    "def area(bb): \n",
    "    x1,y1,x2,y2 = bb\n",
    "    return (x2-x1)*(y2-y1)\n",
    "\n",
    "def IoU(bb, BB):\n",
    "    x1, y1, x2, y2 = bb\n",
    "    X1, Y1, X2, Y2 = BB\n",
    "    x1_Int = max(x1, X1)\n",
    "    x2_Int = min(x2, X2)\n",
    "    y1_Int = max(y1, Y1)\n",
    "    y2_Int = min(y2, Y2)\n",
    "    AInt = area((x1_Int, y1_Int, x2_Int,  y2_Int))\n",
    "    return AInt/(area(bb) + area(BB) - AInt)\n",
    "\n",
    "def nms(anns, nms_iou_th=0.8):\n",
    "    anns = sorted(anns, key=lambda x: x['score'])\n",
    "    i = 0 \n",
    "    while i < len(anns):\n",
    "        bb1 = anns[i]['bbox']\n",
    "        j = i + 1\n",
    "        while j < len(anns):\n",
    "            bb2 = anns[j]['bbox']\n",
    "            if IoU(bb1, bb2) > nms_iou_th: anns.pop(j)\n",
    "            else: j += 1\n",
    "        i += 1\n",
    "    return anns\n",
    "\n",
    "def get_metrics(gt_bbs, dt_bbs, IoU_th, with_nms=False, nms_th=0.8):\n",
    "    used_dts = []\n",
    "    dt_bbs = nms(dt_bbs, nms_th) if with_nms else dt_bbs\n",
    "    for gt_bb in gt_bbs:\n",
    "        for dt_id, dt_bb in enumerate(dt_bbs):\n",
    "            if IoU(gt_bb, dt_bb) > IoU_th and dt_id not in used_dts:\n",
    "                used_dts.append(dt_id)\n",
    "                break\n",
    "                \n",
    "    TP = len(used_dts)\n",
    "    FP = len(dt_bbs) - TP\n",
    "    FN = len(gt_bbs) - TP\n",
    "\n",
    "    p = TP/(TP + FP) if TP + FP > 0 else 0\n",
    "    r = TP/(TP + FN) if TP + FP > 0 else 0\n",
    "    return p, r"
   ]
  },
  {
   "cell_type": "code",
   "execution_count": 14,
   "metadata": {},
   "outputs": [
    {
     "data": {
      "text/plain": [
       "(0.8546251109139298, 0.6912306106017279)"
      ]
     },
     "execution_count": 14,
     "metadata": {},
     "output_type": "execute_result"
    }
   ],
   "source": [
    "gts_path = Path('/mnt/data/smarttray/dataset_05jul2021_av3b')\n",
    "dts_path = Path('/mnt/data/smarttray/dataset_05jul2021_av3b/two_detector_results')\n",
    "\n",
    "avg_r, avg_p, i = 0, 0, 0\n",
    "for ds_path in dts_path.iterdir():\n",
    "    for dt_ann_path in ds_path.iterdir():\n",
    "        gt_ann_path = gts_path/ds_path.stem/'val/annotations'/dt_ann_path.name\n",
    "        \n",
    "        dt_anns = read_xml_content(dt_ann_path)\n",
    "        gt_anns = read_xml_content(gt_ann_path)\n",
    "        \n",
    "        dt_bbs = [[x1,y1,x2,y2] for _,x1,y1,x2,y2 in dt_anns]\n",
    "        gt_bbs = [[x1,y1,x2,y2] for _,x1,y1,x2,y2 in gt_anns]\n",
    "              \n",
    "        \n",
    "        p,r = get_metrics(dt_bbs, gt_bbs, IoU_th=0.8)\n",
    "        avg_p += p; avg_r += r\n",
    "        i += 1\n",
    "        \n",
    "avg_p/i, avg_r/i"
   ]
  },
  {
   "cell_type": "code",
   "execution_count": null,
   "metadata": {},
   "outputs": [],
   "source": []
  },
  {
   "cell_type": "code",
   "execution_count": null,
   "metadata": {},
   "outputs": [],
   "source": [
    "\n"
   ]
  }
 ],
 "metadata": {
  "kernelspec": {
   "display_name": "Python 3",
   "language": "python",
   "name": "python3"
  },
  "language_info": {
   "codemirror_mode": {
    "name": "ipython",
    "version": 3
   },
   "file_extension": ".py",
   "mimetype": "text/x-python",
   "name": "python",
   "nbconvert_exporter": "python",
   "pygments_lexer": "ipython3",
   "version": "3.8.5"
  }
 },
 "nbformat": 4,
 "nbformat_minor": 4
}
